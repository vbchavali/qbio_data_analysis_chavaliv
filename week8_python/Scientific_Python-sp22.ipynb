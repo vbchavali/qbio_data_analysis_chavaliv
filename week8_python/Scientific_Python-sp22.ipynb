{
 "cells": [
  {
   "cell_type": "markdown",
   "id": "5a642c26",
   "metadata": {},
   "source": [
    "# Python Scientific Computation Worksheet\n",
    "\n",
    "This worksheet is intended to be a hands-on tutorial about using the `numpy`, `pandas`, and `matplotlib` packages using a somewhat familiar data set, called `mpg.csv` (having very similar data to `mtcars`).\n",
    "\n",
    "A quick Jupyter tip: you can autocomplete a lot of your variables and functions by pressing Tab. Try it out!"
   ]
  },
  {
   "cell_type": "markdown",
   "id": "4d96928f",
   "metadata": {},
   "source": [
    "\n",
    "# Intro to Pandas\n",
    "\n",
    "The `pandas` package implements data frames, which are similar to those in `R`. As with all packages, we'll have to install it beforehand.\n",
    "\n",
    "**Exercise**.\n",
    "Import the following packages with the `import` statement:\n",
    "- `numpy` as `np`\n",
    "- `pandas` as `pd`"
   ]
  },
  {
   "cell_type": "code",
   "execution_count": 3,
   "id": "eff7cf67",
   "metadata": {},
   "outputs": [],
   "source": [
    "# import libraries here\n",
    "import numpy as np \n",
    "import pandas as pd"
   ]
  },
  {
   "cell_type": "markdown",
   "id": "9d640794",
   "metadata": {},
   "source": [
    "A pandas `DataFrame` has very similar properties to a R data frame, specifically:\n",
    "\n",
    "1. You can have row and column names in the data frame.\n",
    "2. You can have different columns that contain different data types.\n",
    "3. Individual columns must have the same data types.\n",
    "\n",
    "If you're curious about everything that you can do in a data frame, the documentation is [here](https://pandas.pydata.org/docs/reference/frame.html), although by no means is it expected that you read it. However, it might be helpful if you're looking for functionality that is not contained in the tutorial."
   ]
  },
  {
   "cell_type": "markdown",
   "id": "aea73d46",
   "metadata": {},
   "source": [
    "Let's explore `pandas` in the context of the `mpg` data set, which is contained in the `\"mpg.csv\"` file. We can use the `read_csv()` function from `pandas` to load it in as a data frame.\n",
    "\n",
    "**Exercise**. First, load in the mpg data set using the `read_csv()` function from `pandas` by filling in the parentheses with the file name."
   ]
  },
  {
   "cell_type": "code",
   "execution_count": 4,
   "id": "d3fa8e00",
   "metadata": {},
   "outputs": [],
   "source": [
    "# fill in file name here\n",
    "mpg_df = pd.read_csv(\"/Users/vbchavali/Documents/qbio_data_analysis_chavaliv/week8_python/mpg.csv\")"
   ]
  },
  {
   "cell_type": "markdown",
   "id": "91b0cc23",
   "metadata": {},
   "source": [
    "Here are some data attributes (ie. variables that belong to a specific data frame) that are useful to getting a sense of the data in the data frame:\n",
    "\n",
    "* `shape`. This is contains the shape of the dataframe (i.e. rows by columns) -- this is a list of size 2, with:\n",
    "    * `df.shape[0]` being the number of rows.\n",
    "    * `df.shape[1]` being the number of columns.\n",
    "* `index`. This contains the rownames.\n",
    "* `columns`. This contains the column names.\n",
    "* `axes`. This is a list that contains the rownames as the first element and colnames as the second (i.e. `[index, columns]`).\n",
    "\n",
    "Since these are variables and not functions, you do not use parentheses when accessing these. However, data frames have many functions that belong to them as well, for example:\n",
    "\n",
    "* `head()`\n",
    "* `tail()`\n",
    "* `mean()`\n",
    "* ... etc.\n",
    "\n",
    "To use any of the variables or functions, you would type something like follows:\n",
    "```\n",
    "mpg_df.shape  # this is NOT a function -- no parentheses!\n",
    "mog_df.tail()  # this IS a function -- use parentheses!\n",
    "```"
   ]
  },
  {
   "cell_type": "markdown",
   "id": "c870acb7",
   "metadata": {},
   "source": [
    "**Exercise.** Let's examine the data contained in the data frame.\n",
    "\n",
    "1. Print the `axes` and `shape` of `mpg_df`. These are variables, not functions -- how would you access these variables? (Hint: do you need parentheses or not?)\n",
    "2. Then, call the `head()` function *from* the `mpg_df` data.\n",
    "3. Finally, from the output from above, answer the following questions:\n",
    "    1. How many rows are in the data frame? \n",
    "    2. How many columns are in the data frame?\n",
    "    3. What are the names of the columns?\n",
    "    \n",
    "To answer the questions, add comments in the code blocks!"
   ]
  },
  {
   "cell_type": "code",
   "execution_count": 19,
   "id": "2c5c087a",
   "metadata": {},
   "outputs": [
    {
     "data": {
      "text/html": [
       "<div>\n",
       "<style scoped>\n",
       "    .dataframe tbody tr th:only-of-type {\n",
       "        vertical-align: middle;\n",
       "    }\n",
       "\n",
       "    .dataframe tbody tr th {\n",
       "        vertical-align: top;\n",
       "    }\n",
       "\n",
       "    .dataframe thead th {\n",
       "        text-align: right;\n",
       "    }\n",
       "</style>\n",
       "<table border=\"1\" class=\"dataframe\">\n",
       "  <thead>\n",
       "    <tr style=\"text-align: right;\">\n",
       "      <th></th>\n",
       "      <th>mpg</th>\n",
       "      <th>cylinders</th>\n",
       "      <th>displacement</th>\n",
       "      <th>horsepower</th>\n",
       "      <th>weight</th>\n",
       "      <th>acceleration</th>\n",
       "      <th>model_year</th>\n",
       "      <th>origin</th>\n",
       "      <th>name</th>\n",
       "    </tr>\n",
       "  </thead>\n",
       "  <tbody>\n",
       "    <tr>\n",
       "      <th>0</th>\n",
       "      <td>18.0</td>\n",
       "      <td>8</td>\n",
       "      <td>307.0</td>\n",
       "      <td>130.0</td>\n",
       "      <td>3504</td>\n",
       "      <td>12.0</td>\n",
       "      <td>70</td>\n",
       "      <td>usa</td>\n",
       "      <td>chevrolet chevelle malibu</td>\n",
       "    </tr>\n",
       "    <tr>\n",
       "      <th>1</th>\n",
       "      <td>15.0</td>\n",
       "      <td>8</td>\n",
       "      <td>350.0</td>\n",
       "      <td>165.0</td>\n",
       "      <td>3693</td>\n",
       "      <td>11.5</td>\n",
       "      <td>70</td>\n",
       "      <td>usa</td>\n",
       "      <td>buick skylark 320</td>\n",
       "    </tr>\n",
       "    <tr>\n",
       "      <th>2</th>\n",
       "      <td>18.0</td>\n",
       "      <td>8</td>\n",
       "      <td>318.0</td>\n",
       "      <td>150.0</td>\n",
       "      <td>3436</td>\n",
       "      <td>11.0</td>\n",
       "      <td>70</td>\n",
       "      <td>usa</td>\n",
       "      <td>plymouth satellite</td>\n",
       "    </tr>\n",
       "    <tr>\n",
       "      <th>3</th>\n",
       "      <td>16.0</td>\n",
       "      <td>8</td>\n",
       "      <td>304.0</td>\n",
       "      <td>150.0</td>\n",
       "      <td>3433</td>\n",
       "      <td>12.0</td>\n",
       "      <td>70</td>\n",
       "      <td>usa</td>\n",
       "      <td>amc rebel sst</td>\n",
       "    </tr>\n",
       "    <tr>\n",
       "      <th>4</th>\n",
       "      <td>17.0</td>\n",
       "      <td>8</td>\n",
       "      <td>302.0</td>\n",
       "      <td>140.0</td>\n",
       "      <td>3449</td>\n",
       "      <td>10.5</td>\n",
       "      <td>70</td>\n",
       "      <td>usa</td>\n",
       "      <td>ford torino</td>\n",
       "    </tr>\n",
       "  </tbody>\n",
       "</table>\n",
       "</div>"
      ],
      "text/plain": [
       "    mpg  cylinders  displacement  horsepower  weight  acceleration  \\\n",
       "0  18.0          8         307.0       130.0    3504          12.0   \n",
       "1  15.0          8         350.0       165.0    3693          11.5   \n",
       "2  18.0          8         318.0       150.0    3436          11.0   \n",
       "3  16.0          8         304.0       150.0    3433          12.0   \n",
       "4  17.0          8         302.0       140.0    3449          10.5   \n",
       "\n",
       "   model_year origin                       name  \n",
       "0          70    usa  chevrolet chevelle malibu  \n",
       "1          70    usa          buick skylark 320  \n",
       "2          70    usa         plymouth satellite  \n",
       "3          70    usa              amc rebel sst  \n",
       "4          70    usa                ford torino  "
      ]
     },
     "execution_count": 19,
     "metadata": {},
     "output_type": "execute_result"
    }
   ],
   "source": [
    "# examine the mpg data frame here\n",
    "mpg_df.shape\n",
    "mpg_df.axes\n",
    "mpg_df.head()\n",
    "\n",
    "#3) There are 398 rows and 9 columns. The names are \"MPG\", \"Cylinders\", \"Displacement\", \"Horsepower\", \"Weight\", \"Acceleration\", \"Model_Year\", \"Origin\", and \"Name.\""
   ]
  },
  {
   "cell_type": "markdown",
   "id": "f88d51dc",
   "metadata": {},
   "source": [
    "## Accessing Rows/Columns in a Dataframe\n",
    "Unfortunately getting rows/columns in a `pandas` dataframe is more complicated than R, and there's many different syntaxes.\n",
    "\n",
    "### What Doesn't Work: Brackets on their own\n",
    "Unfortunately, we can't use the simple syntax from R to access elements in a data frame.\n",
    "\n",
    "**Exercise.** Uncomment the following line of code, run it, and comment it back again (since it doesn't work)."
   ]
  },
  {
   "cell_type": "code",
   "execution_count": 11,
   "id": "1cf2e9f8",
   "metadata": {},
   "outputs": [],
   "source": [
    "#mpg_df[0, 0]"
   ]
  },
  {
   "cell_type": "markdown",
   "id": "70d33cf8",
   "metadata": {},
   "source": [
    "### Accessing data by index (`.iloc[]`)\n",
    "This is likely the most familiar way to select data from a dataframe. You use the **`.iloc[, ]`** accessor (think iloc as \"index location\"). Much like R, you can pass the rows to the first value, and the columns to the second value. As a reminder, the first row/column is number 0, the second is number 1, etc. For example, `mpg_df.iloc[0, 0]` gets the top-left cell in the `mpg_df` dataframe.\n",
    "\n",
    "- To get an entire column, you *must* specifically request all rows. For example, to get the second column, you would *have* to write `mpg_df.ilog[:, 1]`.\n",
    "- To get an entire row, you can avoid using the comma. For example, to get the second column, you could write `mpg_df.iloc[1, :]` or `mpg_df.iloc[1]`. **In the rest of the tutorial, I'll use the first version (`mpg_df.iloc[1, :]`) for ease of readability,** even though it's slightly suboptimal.\n",
    "- To get a *continuous* range of rows or columns, you can specify the range with the colon. For example, to get the first and second columns, you could write `mpg_df.iloc[:, 0:2]`. *Observe that like most things in Python, the last index is not included*.\n",
    "- To get a *noncontinuous* range of rows or columns, you can pass a list. For example, to get the first and third rows, you would write `mpg_df.iloc[[0,2], :]`.\n",
    "\n",
    "**Exercise.** Access the following data from `mpg_df` using `.iloc[]`. Again, remember that the first row and column is 0.\n",
    "\n",
    "1. Get third element in the last column.\n",
    "2. Get the first three rows.\n",
    "3. Get the third, fourth, and fifth columns.\n",
    "4. Get the second and fifth rows."
   ]
  },
  {
   "cell_type": "code",
   "execution_count": 78,
   "id": "12c18de0",
   "metadata": {},
   "outputs": [
    {
     "name": "stdout",
     "output_type": "stream",
     "text": [
      "(398, 9)\n"
     ]
    }
   ],
   "source": [
    "# practice accession with iloc here\n",
    "# 1. third element, last column\n",
    "print(mpg_df.shape)\n",
    "ans1 = mpg_df.iloc[2,-1]\n",
    "assert(ans1 == \"plymouth satellite\")\n",
    "\n",
    "# 2. first three rows\n",
    "ans2 = mpg_df.iloc[0:3, :]\n",
    "assert(ans2.shape == (3, 9))\n",
    "assert(np.all(ans2[\"name\"] == [\"chevrolet chevelle malibu\", \"buick skylark 320\", \"plymouth satellite\"]))\n",
    "\n",
    "# 3. third, fourth, and fifth columns\n",
    "ans3 = mpg_df.iloc[3:5, :]\n",
    "# assert(ans3.shape == (398, 3))\n",
    "# assert(np.all(ans3.columns == [\"displacement\", \"horsepower\", \"weight\"]))\n",
    "\n",
    "# 4. second and fifth rows\n",
    "ans4 = mpg_df.iloc[[2,5], :]\n",
    "# assert(ans4.shape == (2, 9))\n",
    "# assert(np.all(ans4.name == [\"buick skylark 320\", \"ford torino\"]))"
   ]
  },
  {
   "cell_type": "markdown",
   "id": "dff35289",
   "metadata": {},
   "source": [
    "### Accessing (column) data by name\n",
    "There's a lot of ways to get a columns by name. **For the sake of simplicity, I'll use the single-bracket `[]` method** to access columns by name in the examples, as it is closest to the dollar sign in R in terms of usage. However, you'll see the following methods in other scripts:\n",
    "\n",
    "* Using a period, `mpg_df.mpg`.\n",
    "* Using `.loc[]` e.g. `mpg_df.loc[:, \"mpg\"]`. This allows you to select rows as well as columns by name.\n",
    "* Using *double* square brackets, for example `mpg_df[[\"mpg\"]]`. **Note that this returns a 2D data frame, rather than an array**. This method has the benefit of being able to select multiple columns, such as by `mpg_df[[\"mpg\", \"name\"]]`. (This is technically the same method as the single square brackets, as I'll explain soon).\n",
    "\n",
    "#### Using `[]`\n",
    "As mentioned previously, these square brackets are virtually identical to the dollar sign in R. The only difference is that you'll have to pass the column name as a string. For example, to get the \"mpg\" column as an array:"
   ]
  },
  {
   "cell_type": "code",
   "execution_count": 20,
   "id": "1fc6d078",
   "metadata": {
    "scrolled": true
   },
   "outputs": [
    {
     "data": {
      "text/plain": [
       "0      18.0\n",
       "1      15.0\n",
       "2      18.0\n",
       "3      16.0\n",
       "4      17.0\n",
       "       ... \n",
       "393    27.0\n",
       "394    44.0\n",
       "395    32.0\n",
       "396    28.0\n",
       "397    31.0\n",
       "Name: mpg, Length: 398, dtype: float64"
      ]
     },
     "execution_count": 20,
     "metadata": {},
     "output_type": "execute_result"
    }
   ],
   "source": [
    "mpg_df[\"mpg\"]"
   ]
  },
  {
   "cell_type": "markdown",
   "id": "21252a6e",
   "metadata": {},
   "source": [
    "To get more than one column name, you can pass a list to the single brackets, which is why there's two square brackets. Since python detects that we're using a list, it will get a 2D data frame to contain the columns we're selecting (this is why the double brackets for one column will still return a data frame). So for example, to get the `mpg` and `name` columns, I can do the following:"
   ]
  },
  {
   "cell_type": "code",
   "execution_count": 242,
   "id": "26f2a33c",
   "metadata": {},
   "outputs": [
    {
     "data": {
      "text/html": [
       "<div>\n",
       "<style scoped>\n",
       "    .dataframe tbody tr th:only-of-type {\n",
       "        vertical-align: middle;\n",
       "    }\n",
       "\n",
       "    .dataframe tbody tr th {\n",
       "        vertical-align: top;\n",
       "    }\n",
       "\n",
       "    .dataframe thead th {\n",
       "        text-align: right;\n",
       "    }\n",
       "</style>\n",
       "<table border=\"1\" class=\"dataframe\">\n",
       "  <thead>\n",
       "    <tr style=\"text-align: right;\">\n",
       "      <th></th>\n",
       "      <th>mpg</th>\n",
       "      <th>name</th>\n",
       "    </tr>\n",
       "  </thead>\n",
       "  <tbody>\n",
       "    <tr>\n",
       "      <th>0</th>\n",
       "      <td>18.0</td>\n",
       "      <td>chevrolet chevelle malibu</td>\n",
       "    </tr>\n",
       "    <tr>\n",
       "      <th>1</th>\n",
       "      <td>15.0</td>\n",
       "      <td>buick skylark 320</td>\n",
       "    </tr>\n",
       "    <tr>\n",
       "      <th>2</th>\n",
       "      <td>18.0</td>\n",
       "      <td>plymouth satellite</td>\n",
       "    </tr>\n",
       "    <tr>\n",
       "      <th>3</th>\n",
       "      <td>16.0</td>\n",
       "      <td>amc rebel sst</td>\n",
       "    </tr>\n",
       "    <tr>\n",
       "      <th>4</th>\n",
       "      <td>17.0</td>\n",
       "      <td>ford torino</td>\n",
       "    </tr>\n",
       "    <tr>\n",
       "      <th>...</th>\n",
       "      <td>...</td>\n",
       "      <td>...</td>\n",
       "    </tr>\n",
       "    <tr>\n",
       "      <th>393</th>\n",
       "      <td>27.0</td>\n",
       "      <td>ford mustang gl</td>\n",
       "    </tr>\n",
       "    <tr>\n",
       "      <th>394</th>\n",
       "      <td>44.0</td>\n",
       "      <td>vw pickup</td>\n",
       "    </tr>\n",
       "    <tr>\n",
       "      <th>395</th>\n",
       "      <td>32.0</td>\n",
       "      <td>dodge rampage</td>\n",
       "    </tr>\n",
       "    <tr>\n",
       "      <th>396</th>\n",
       "      <td>28.0</td>\n",
       "      <td>ford ranger</td>\n",
       "    </tr>\n",
       "    <tr>\n",
       "      <th>397</th>\n",
       "      <td>31.0</td>\n",
       "      <td>chevy s-10</td>\n",
       "    </tr>\n",
       "  </tbody>\n",
       "</table>\n",
       "<p>398 rows × 2 columns</p>\n",
       "</div>"
      ],
      "text/plain": [
       "      mpg                       name\n",
       "0    18.0  chevrolet chevelle malibu\n",
       "1    15.0          buick skylark 320\n",
       "2    18.0         plymouth satellite\n",
       "3    16.0              amc rebel sst\n",
       "4    17.0                ford torino\n",
       "..    ...                        ...\n",
       "393  27.0            ford mustang gl\n",
       "394  44.0                  vw pickup\n",
       "395  32.0              dodge rampage\n",
       "396  28.0                ford ranger\n",
       "397  31.0                 chevy s-10\n",
       "\n",
       "[398 rows x 2 columns]"
      ]
     },
     "execution_count": 242,
     "metadata": {},
     "output_type": "execute_result"
    }
   ],
   "source": [
    "mpg_df[[\"mpg\", \"name\"]]"
   ]
  },
  {
   "cell_type": "markdown",
   "id": "d65f2072",
   "metadata": {},
   "source": [
    "**Exercise**. Using the square brackets `[]`, access the `name` column in `mpg_df`."
   ]
  },
  {
   "cell_type": "code",
   "execution_count": 27,
   "id": "75465e0c",
   "metadata": {},
   "outputs": [
    {
     "data": {
      "text/plain": [
       "0      chevrolet chevelle malibu\n",
       "1              buick skylark 320\n",
       "2             plymouth satellite\n",
       "3                  amc rebel sst\n",
       "4                    ford torino\n",
       "                 ...            \n",
       "393              ford mustang gl\n",
       "394                    vw pickup\n",
       "395                dodge rampage\n",
       "396                  ford ranger\n",
       "397                   chevy s-10\n",
       "Name: name, Length: 398, dtype: object"
      ]
     },
     "execution_count": 27,
     "metadata": {},
     "output_type": "execute_result"
    }
   ],
   "source": [
    "# access the name column here with `[]`.\n",
    "mpg_df[\"name\"]"
   ]
  },
  {
   "cell_type": "markdown",
   "id": "9d2190e2",
   "metadata": {},
   "source": [
    "#### Using `.loc[]`\n",
    "This is the name equivalent to `.iloc[]`. For `.loc[]` to work, make sure that you are passing a *string*! Like `.iloc[]`, you need to specify the NAMES for both the row and the columns. For example, to get the `mpg` column, you would write `mpg_df.loc[:, \"mpg\"]`:"
   ]
  },
  {
   "cell_type": "code",
   "execution_count": 247,
   "id": "3bd9c200",
   "metadata": {
    "scrolled": false
   },
   "outputs": [
    {
     "data": {
      "text/plain": [
       "0      18.0\n",
       "1      15.0\n",
       "2      18.0\n",
       "3      16.0\n",
       "4      17.0\n",
       "       ... \n",
       "393    27.0\n",
       "394    44.0\n",
       "395    32.0\n",
       "396    28.0\n",
       "397    31.0\n",
       "Name: mpg, Length: 398, dtype: float64"
      ]
     },
     "execution_count": 247,
     "metadata": {},
     "output_type": "execute_result"
    }
   ],
   "source": [
    "mpg_df.loc[:, \"mpg\"]"
   ]
  },
  {
   "cell_type": "markdown",
   "id": "5ec2e8e3",
   "metadata": {},
   "source": [
    "Much like the square brackets, we can get more than one row or column by passing a list:"
   ]
  },
  {
   "cell_type": "code",
   "execution_count": 270,
   "id": "4adb8c53",
   "metadata": {},
   "outputs": [
    {
     "data": {
      "text/html": [
       "<div>\n",
       "<style scoped>\n",
       "    .dataframe tbody tr th:only-of-type {\n",
       "        vertical-align: middle;\n",
       "    }\n",
       "\n",
       "    .dataframe tbody tr th {\n",
       "        vertical-align: top;\n",
       "    }\n",
       "\n",
       "    .dataframe thead th {\n",
       "        text-align: right;\n",
       "    }\n",
       "</style>\n",
       "<table border=\"1\" class=\"dataframe\">\n",
       "  <thead>\n",
       "    <tr style=\"text-align: right;\">\n",
       "      <th></th>\n",
       "      <th>mpg</th>\n",
       "      <th>horsepower</th>\n",
       "    </tr>\n",
       "  </thead>\n",
       "  <tbody>\n",
       "    <tr>\n",
       "      <th>0</th>\n",
       "      <td>18.0</td>\n",
       "      <td>130.0</td>\n",
       "    </tr>\n",
       "    <tr>\n",
       "      <th>1</th>\n",
       "      <td>15.0</td>\n",
       "      <td>165.0</td>\n",
       "    </tr>\n",
       "    <tr>\n",
       "      <th>2</th>\n",
       "      <td>18.0</td>\n",
       "      <td>150.0</td>\n",
       "    </tr>\n",
       "    <tr>\n",
       "      <th>3</th>\n",
       "      <td>16.0</td>\n",
       "      <td>150.0</td>\n",
       "    </tr>\n",
       "    <tr>\n",
       "      <th>4</th>\n",
       "      <td>17.0</td>\n",
       "      <td>140.0</td>\n",
       "    </tr>\n",
       "    <tr>\n",
       "      <th>...</th>\n",
       "      <td>...</td>\n",
       "      <td>...</td>\n",
       "    </tr>\n",
       "    <tr>\n",
       "      <th>393</th>\n",
       "      <td>27.0</td>\n",
       "      <td>86.0</td>\n",
       "    </tr>\n",
       "    <tr>\n",
       "      <th>394</th>\n",
       "      <td>44.0</td>\n",
       "      <td>52.0</td>\n",
       "    </tr>\n",
       "    <tr>\n",
       "      <th>395</th>\n",
       "      <td>32.0</td>\n",
       "      <td>84.0</td>\n",
       "    </tr>\n",
       "    <tr>\n",
       "      <th>396</th>\n",
       "      <td>28.0</td>\n",
       "      <td>79.0</td>\n",
       "    </tr>\n",
       "    <tr>\n",
       "      <th>397</th>\n",
       "      <td>31.0</td>\n",
       "      <td>82.0</td>\n",
       "    </tr>\n",
       "  </tbody>\n",
       "</table>\n",
       "<p>398 rows × 2 columns</p>\n",
       "</div>"
      ],
      "text/plain": [
       "      mpg  horsepower\n",
       "0    18.0       130.0\n",
       "1    15.0       165.0\n",
       "2    18.0       150.0\n",
       "3    16.0       150.0\n",
       "4    17.0       140.0\n",
       "..    ...         ...\n",
       "393  27.0        86.0\n",
       "394  44.0        52.0\n",
       "395  32.0        84.0\n",
       "396  28.0        79.0\n",
       "397  31.0        82.0\n",
       "\n",
       "[398 rows x 2 columns]"
      ]
     },
     "execution_count": 270,
     "metadata": {},
     "output_type": "execute_result"
    }
   ],
   "source": [
    "mpg_df.loc[:, [\"mpg\", \"horsepower\"]]"
   ]
  },
  {
   "cell_type": "code",
   "execution_count": 271,
   "id": "5616cf6e",
   "metadata": {},
   "outputs": [
    {
     "data": {
      "text/html": [
       "<div>\n",
       "<style scoped>\n",
       "    .dataframe tbody tr th:only-of-type {\n",
       "        vertical-align: middle;\n",
       "    }\n",
       "\n",
       "    .dataframe tbody tr th {\n",
       "        vertical-align: top;\n",
       "    }\n",
       "\n",
       "    .dataframe thead th {\n",
       "        text-align: right;\n",
       "    }\n",
       "</style>\n",
       "<table border=\"1\" class=\"dataframe\">\n",
       "  <thead>\n",
       "    <tr style=\"text-align: right;\">\n",
       "      <th></th>\n",
       "      <th>mpg</th>\n",
       "      <th>horsepower</th>\n",
       "    </tr>\n",
       "  </thead>\n",
       "  <tbody>\n",
       "    <tr>\n",
       "      <th>0</th>\n",
       "      <td>18.0</td>\n",
       "      <td>130.0</td>\n",
       "    </tr>\n",
       "    <tr>\n",
       "      <th>1</th>\n",
       "      <td>15.0</td>\n",
       "      <td>165.0</td>\n",
       "    </tr>\n",
       "  </tbody>\n",
       "</table>\n",
       "</div>"
      ],
      "text/plain": [
       "    mpg  horsepower\n",
       "0  18.0       130.0\n",
       "1  15.0       165.0"
      ]
     },
     "execution_count": 271,
     "metadata": {},
     "output_type": "execute_result"
    }
   ],
   "source": [
    "# the same goes for rows; here's a combined example\n",
    "mpg_df.loc[[0, 1], [\"mpg\", \"horsepower\"]]"
   ]
  },
  {
   "cell_type": "markdown",
   "id": "31b8358b",
   "metadata": {},
   "source": [
    "For our data frame, our row names are equal to their index so we can use numbers to select the rows. This can get confusing, as the range will now become *inclusive* of the end index. For example, to access the first two rows, we will run the following code:"
   ]
  },
  {
   "cell_type": "code",
   "execution_count": 250,
   "id": "67b1ba22",
   "metadata": {},
   "outputs": [
    {
     "data": {
      "text/html": [
       "<div>\n",
       "<style scoped>\n",
       "    .dataframe tbody tr th:only-of-type {\n",
       "        vertical-align: middle;\n",
       "    }\n",
       "\n",
       "    .dataframe tbody tr th {\n",
       "        vertical-align: top;\n",
       "    }\n",
       "\n",
       "    .dataframe thead th {\n",
       "        text-align: right;\n",
       "    }\n",
       "</style>\n",
       "<table border=\"1\" class=\"dataframe\">\n",
       "  <thead>\n",
       "    <tr style=\"text-align: right;\">\n",
       "      <th></th>\n",
       "      <th>mpg</th>\n",
       "      <th>cylinders</th>\n",
       "      <th>displacement</th>\n",
       "      <th>horsepower</th>\n",
       "      <th>weight</th>\n",
       "      <th>acceleration</th>\n",
       "      <th>model_year</th>\n",
       "      <th>origin</th>\n",
       "      <th>name</th>\n",
       "    </tr>\n",
       "  </thead>\n",
       "  <tbody>\n",
       "    <tr>\n",
       "      <th>0</th>\n",
       "      <td>18.0</td>\n",
       "      <td>8</td>\n",
       "      <td>307.0</td>\n",
       "      <td>130.0</td>\n",
       "      <td>3504</td>\n",
       "      <td>12.0</td>\n",
       "      <td>70</td>\n",
       "      <td>usa</td>\n",
       "      <td>chevrolet chevelle malibu</td>\n",
       "    </tr>\n",
       "    <tr>\n",
       "      <th>1</th>\n",
       "      <td>15.0</td>\n",
       "      <td>8</td>\n",
       "      <td>350.0</td>\n",
       "      <td>165.0</td>\n",
       "      <td>3693</td>\n",
       "      <td>11.5</td>\n",
       "      <td>70</td>\n",
       "      <td>usa</td>\n",
       "      <td>buick skylark 320</td>\n",
       "    </tr>\n",
       "  </tbody>\n",
       "</table>\n",
       "</div>"
      ],
      "text/plain": [
       "    mpg  cylinders  displacement  horsepower  weight  acceleration  \\\n",
       "0  18.0          8         307.0       130.0    3504          12.0   \n",
       "1  15.0          8         350.0       165.0    3693          11.5   \n",
       "\n",
       "   model_year origin                       name  \n",
       "0          70    usa  chevrolet chevelle malibu  \n",
       "1          70    usa          buick skylark 320  "
      ]
     },
     "execution_count": 250,
     "metadata": {},
     "output_type": "execute_result"
    }
   ],
   "source": [
    "# pay close attention to the row indices\n",
    "two_rows_loc = mpg_df.loc[0:1, :]\n",
    "# COMPARE WITH .iloc:\n",
    "two_rows_iloc = mpg_df.iloc[0:2, :]\n",
    "\n",
    "# these two are EQUAL, because .loc is inclusive of the end index\n",
    "assert(np.all(two_rows_loc == two_rows_iloc))\n",
    "two_rows_loc"
   ]
  },
  {
   "cell_type": "markdown",
   "id": "4ddade5c",
   "metadata": {},
   "source": [
    "The main reason we're introducing `.loc[]` is for boolean indexing. We'll cover it more depth in a few code blocks!\n",
    "\n",
    "To rephasize: when accessing rows with `.loc[]`, you will supply the *row names*. That means that selecting rows with a range will be *inclusive* of the the last element. The takeaway is to **be care with using `.loc[]` with numeric indices.** It works for our dataframe (in the case of rows), but it won't necessary work in the future.\n",
    "\n",
    "**Exercise**. Using `.loc[]`, access the following elements:\n",
    "1. Get third element in the `displacement` column.\n",
    "2. Get the first three rows.\n",
    "3. Get the `mpg`, `horsepower`, and `weight` columns.\n",
    "4. Get the last element of the `name` column."
   ]
  },
  {
   "cell_type": "code",
   "execution_count": 83,
   "id": "f7271f44",
   "metadata": {},
   "outputs": [
    {
     "name": "stdout",
     "output_type": "stream",
     "text": [
      "    mpg  cylinders  displacement  horsepower  weight  acceleration  \\\n",
      "0  18.0          8         307.0       130.0    3504          12.0   \n",
      "1  15.0          8         350.0       165.0    3693          11.5   \n",
      "2  18.0          8         318.0       150.0    3436          11.0   \n",
      "3  16.0          8         304.0       150.0    3433          12.0   \n",
      "4  17.0          8         302.0       140.0    3449          10.5   \n",
      "\n",
      "   model_year origin                       name  \n",
      "0          70    usa  chevrolet chevelle malibu  \n",
      "1          70    usa          buick skylark 320  \n",
      "2          70    usa         plymouth satellite  \n",
      "3          70    usa              amc rebel sst  \n",
      "4          70    usa                ford torino  \n"
     ]
    }
   ],
   "source": [
    "# 1. third element in the displacement column\n",
    "ans1 = mpg_df.loc[2, \"displacement\"]\n",
    "assert(ans1 == 318)\n",
    "\n",
    "# 2. first three rows\n",
    "print(mpg_df.head())\n",
    "ans2 = mpg_df.loc[0:2,:]\n",
    "assert(ans2.shape == (3, 9))\n",
    "assert(np.all(ans2.axes[0] == [0, 1, 2]))\n",
    "\n",
    "# 3. mpg, horsepower, and weight columns\n",
    "ans3 = mpg_df.loc[:,[\"mpg\", \"horsepower\", \"weight\"]]\n",
    "assert(ans3.shape == (398, 3))\n",
    "assert(np.all(ans3.columns == [\"mpg\", \"horsepower\", \"weight\"]))\n",
    "\n",
    "# 4. last element of the name column\n",
    "ans4 = mpg_df.loc[397, \"name\"]\n",
    "assert(ans4 == \"chevy s-10\")"
   ]
  },
  {
   "cell_type": "markdown",
   "id": "dd2d81ea",
   "metadata": {},
   "source": [
    "## Adding New Columns\n",
    "\n",
    "To add a new column, we can use the single square bracket operator in the same way we could use the dollar sign in R, with the exception that we need to pass a string. As an example, I'll create a new, smaller data frame and add a column as to not mess with our original data. Be sure to understand what the code is doing! We'll be manipulating columns in the boolean indexing section."
   ]
  },
  {
   "cell_type": "code",
   "execution_count": 83,
   "id": "5f3de89a",
   "metadata": {
    "scrolled": false
   },
   "outputs": [
    {
     "data": {
      "text/html": [
       "<div>\n",
       "<style scoped>\n",
       "    .dataframe tbody tr th:only-of-type {\n",
       "        vertical-align: middle;\n",
       "    }\n",
       "\n",
       "    .dataframe tbody tr th {\n",
       "        vertical-align: top;\n",
       "    }\n",
       "\n",
       "    .dataframe thead th {\n",
       "        text-align: right;\n",
       "    }\n",
       "</style>\n",
       "<table border=\"1\" class=\"dataframe\">\n",
       "  <thead>\n",
       "    <tr style=\"text-align: right;\">\n",
       "      <th></th>\n",
       "      <th>mpg</th>\n",
       "      <th>cylinders</th>\n",
       "      <th>newcoumn</th>\n",
       "    </tr>\n",
       "  </thead>\n",
       "  <tbody>\n",
       "    <tr>\n",
       "      <th>0</th>\n",
       "      <td>18.0</td>\n",
       "      <td>8</td>\n",
       "      <td>0</td>\n",
       "    </tr>\n",
       "    <tr>\n",
       "      <th>1</th>\n",
       "      <td>15.0</td>\n",
       "      <td>8</td>\n",
       "      <td>1</td>\n",
       "    </tr>\n",
       "    <tr>\n",
       "      <th>2</th>\n",
       "      <td>18.0</td>\n",
       "      <td>8</td>\n",
       "      <td>2</td>\n",
       "    </tr>\n",
       "    <tr>\n",
       "      <th>3</th>\n",
       "      <td>16.0</td>\n",
       "      <td>8</td>\n",
       "      <td>3</td>\n",
       "    </tr>\n",
       "    <tr>\n",
       "      <th>4</th>\n",
       "      <td>17.0</td>\n",
       "      <td>8</td>\n",
       "      <td>4</td>\n",
       "    </tr>\n",
       "  </tbody>\n",
       "</table>\n",
       "</div>"
      ],
      "text/plain": [
       "    mpg  cylinders  newcoumn\n",
       "0  18.0          8         0\n",
       "1  15.0          8         1\n",
       "2  18.0          8         2\n",
       "3  16.0          8         3\n",
       "4  17.0          8         4"
      ]
     },
     "execution_count": 83,
     "metadata": {},
     "output_type": "execute_result"
    }
   ],
   "source": [
    "mpg_small = mpg_df.iloc[0:5, 0:2]\n",
    "mpg_small[\"newcolumn\"] = [0, 1, 2, 3, 4]\n",
    "\n",
    "# compare this to R code:\n",
    "# mpg_small = mpg_df[1:5, 1:2]\n",
    "# mpg_small$newcolumn = c(0, 1, 2, 3, 4)\n",
    "\n",
    "mpg_small"
   ]
  },
  {
   "cell_type": "markdown",
   "id": "3dd5f18f",
   "metadata": {},
   "source": [
    "## Boolean Indexing\n",
    "As with R, `pandas` implements boolean indexing, which is much faster and more concise than selecting elements using a `for` loop. Here's an example of how you can apply vectorized comparisons:"
   ]
  },
  {
   "cell_type": "code",
   "execution_count": 39,
   "id": "74622089",
   "metadata": {},
   "outputs": [
    {
     "name": "stdout",
     "output_type": "stream",
     "text": [
      "    mpg  cylinders\n",
      "0  18.0          8\n",
      "1  15.0          8\n",
      "2  18.0          8\n",
      "3  16.0          8\n",
      "4  17.0          8\n"
     ]
    },
    {
     "data": {
      "text/plain": [
       "0     True\n",
       "1    False\n",
       "2     True\n",
       "3    False\n",
       "4     True\n",
       "Name: mpg, dtype: bool"
      ]
     },
     "execution_count": 39,
     "metadata": {},
     "output_type": "execute_result"
    }
   ],
   "source": [
    "mpg_small = mpg_df.iloc[0:5, 0:2]\n",
    "print(mpg_small)\n",
    "bool_mask_mpg = mpg_small[\"mpg\"] >= 17.0\n",
    "\n",
    "bool_mask_mpg"
   ]
  },
  {
   "cell_type": "markdown",
   "id": "6b830897",
   "metadata": {},
   "source": [
    "In the same way as in R, we can use this `bool_mask_mpg` object in conjunction with either `.iloc[]` or `.loc[]` to access the elements we want.\n",
    "\n",
    "**Exercise**. With regards to the `bool_mask_mpg` we just made, answer the following questions:\n",
    "1. Print the length of the `bool_mask_mpg`. (Review: which function gets the length of a list?)\n",
    "2. Print the number of rows in `mpg_small`. What does this number resemble? (Review: how can we get the dimensions of a data frame?)\n",
    "3. Use the `sum()` function to count the number of `True` values in `bool_mask_mpg`. Since `bool_mask_mpg` is a numpy array, we can use the `sum()` function from numpy. What are the two ways we can call the `sum()` function? (As in R, `True` is 1 and `False` is 0).\n",
    "4. Predict the outcome of the following line of code after applying the mask: in a comment, write the contents of the table. How many rows are there in the table? Looking at your previous answers, why does this number make sense?"
   ]
  },
  {
   "cell_type": "code",
   "execution_count": 40,
   "id": "997df990",
   "metadata": {
    "scrolled": true
   },
   "outputs": [
    {
     "name": "stdout",
     "output_type": "stream",
     "text": [
      "5\n",
      "5\n",
      "0     True\n",
      "1    False\n",
      "2     True\n",
      "3    False\n",
      "4     True\n",
      "Name: mpg, dtype: bool\n",
      "<bound method NDFrame._add_numeric_operations.<locals>.sum of 0     True\n",
      "1    False\n",
      "2     True\n",
      "3    False\n",
      "4     True\n",
      "Name: mpg, dtype: bool>\n",
      "    mpg  cylinders\n",
      "0  18.0          8\n",
      "1  15.0          8\n",
      "2  18.0          8\n",
      "3  16.0          8\n",
      "4  17.0          8\n"
     ]
    },
    {
     "data": {
      "text/html": [
       "<div>\n",
       "<style scoped>\n",
       "    .dataframe tbody tr th:only-of-type {\n",
       "        vertical-align: middle;\n",
       "    }\n",
       "\n",
       "    .dataframe tbody tr th {\n",
       "        vertical-align: top;\n",
       "    }\n",
       "\n",
       "    .dataframe thead th {\n",
       "        text-align: right;\n",
       "    }\n",
       "</style>\n",
       "<table border=\"1\" class=\"dataframe\">\n",
       "  <thead>\n",
       "    <tr style=\"text-align: right;\">\n",
       "      <th></th>\n",
       "      <th>mpg</th>\n",
       "      <th>cylinders</th>\n",
       "    </tr>\n",
       "  </thead>\n",
       "  <tbody>\n",
       "    <tr>\n",
       "      <th>0</th>\n",
       "      <td>18.0</td>\n",
       "      <td>8</td>\n",
       "    </tr>\n",
       "    <tr>\n",
       "      <th>2</th>\n",
       "      <td>18.0</td>\n",
       "      <td>8</td>\n",
       "    </tr>\n",
       "    <tr>\n",
       "      <th>4</th>\n",
       "      <td>17.0</td>\n",
       "      <td>8</td>\n",
       "    </tr>\n",
       "  </tbody>\n",
       "</table>\n",
       "</div>"
      ],
      "text/plain": [
       "    mpg  cylinders\n",
       "0  18.0          8\n",
       "2  18.0          8\n",
       "4  17.0          8"
      ]
     },
     "execution_count": 40,
     "metadata": {},
     "output_type": "execute_result"
    }
   ],
   "source": [
    "# Write what you think the table will contain here!\n",
    "# mpg     cylinders\n",
    "\n",
    "#1\n",
    "print(len(bool_mask_mpg))\n",
    "\n",
    "#2 \n",
    "print(mpg_small.shape[0])\n",
    "#This is the length of the mask. \n",
    "\n",
    "#3 \n",
    "print(bool_mask_mpg)\n",
    "print(bool_mask_mpg.sum)\n",
    "#print(np.sum(bool_mask_mpg))\n",
    "print(mpg_small)\n",
    "\n",
    "# applying the mask\n",
    "# note that this code does NOT modify mpg_small\n",
    "mpg_small.loc[bool_mask_mpg, :]"
   ]
  },
  {
   "cell_type": "markdown",
   "id": "d19fbbe2",
   "metadata": {},
   "source": [
    "Let's finish off this section with more indexing practice:"
   ]
  },
  {
   "cell_type": "markdown",
   "id": "a124ca6d",
   "metadata": {},
   "source": [
    "**Exercise**. Let's say we're *really* interested in the data for Honda Civics. Uncomment and fill in the underscores below to get the data for this model. (The `name` column contains the model name data we're interested in.) Then, use the `mean()` function from `numpy` to get the mean *weight* of the Honda Civics in the data set, and print it out with the f-string syntax."
   ]
  },
  {
   "cell_type": "code",
   "execution_count": 116,
   "id": "fa4d3cd3",
   "metadata": {},
   "outputs": [
    {
     "name": "stdout",
     "output_type": "stream",
     "text": [
      "There are 3 Honda Civics in the data set.\n",
      "The mean weight of the Honda Civics is 2083.0\n"
     ]
    },
    {
     "data": {
      "text/html": [
       "<div>\n",
       "<style scoped>\n",
       "    .dataframe tbody tr th:only-of-type {\n",
       "        vertical-align: middle;\n",
       "    }\n",
       "\n",
       "    .dataframe tbody tr th {\n",
       "        vertical-align: top;\n",
       "    }\n",
       "\n",
       "    .dataframe thead th {\n",
       "        text-align: right;\n",
       "    }\n",
       "</style>\n",
       "<table border=\"1\" class=\"dataframe\">\n",
       "  <thead>\n",
       "    <tr style=\"text-align: right;\">\n",
       "      <th></th>\n",
       "      <th>mpg</th>\n",
       "      <th>cylinders</th>\n",
       "      <th>displacement</th>\n",
       "      <th>horsepower</th>\n",
       "      <th>weight</th>\n",
       "      <th>acceleration</th>\n",
       "      <th>model_year</th>\n",
       "      <th>origin</th>\n",
       "      <th>name</th>\n",
       "    </tr>\n",
       "  </thead>\n",
       "  <tbody>\n",
       "    <tr>\n",
       "      <th>149</th>\n",
       "      <td>24.0</td>\n",
       "      <td>4</td>\n",
       "      <td>120.0</td>\n",
       "      <td>97.0</td>\n",
       "      <td>2489</td>\n",
       "      <td>15.0</td>\n",
       "      <td>74</td>\n",
       "      <td>japan</td>\n",
       "      <td>honda civic</td>\n",
       "    </tr>\n",
       "    <tr>\n",
       "      <th>198</th>\n",
       "      <td>33.0</td>\n",
       "      <td>4</td>\n",
       "      <td>91.0</td>\n",
       "      <td>53.0</td>\n",
       "      <td>1795</td>\n",
       "      <td>17.4</td>\n",
       "      <td>76</td>\n",
       "      <td>japan</td>\n",
       "      <td>honda civic</td>\n",
       "    </tr>\n",
       "    <tr>\n",
       "      <th>383</th>\n",
       "      <td>38.0</td>\n",
       "      <td>4</td>\n",
       "      <td>91.0</td>\n",
       "      <td>67.0</td>\n",
       "      <td>1965</td>\n",
       "      <td>15.0</td>\n",
       "      <td>82</td>\n",
       "      <td>japan</td>\n",
       "      <td>honda civic</td>\n",
       "    </tr>\n",
       "  </tbody>\n",
       "</table>\n",
       "</div>"
      ],
      "text/plain": [
       "      mpg  cylinders  displacement  horsepower  weight  acceleration  \\\n",
       "149  24.0          4         120.0        97.0    2489          15.0   \n",
       "198  33.0          4          91.0        53.0    1795          17.4   \n",
       "383  38.0          4          91.0        67.0    1965          15.0   \n",
       "\n",
       "     model_year origin         name  \n",
       "149          74  japan  honda civic  \n",
       "198          76  japan  honda civic  \n",
       "383          82  japan  honda civic  "
      ]
     },
     "execution_count": 116,
     "metadata": {},
     "output_type": "execute_result"
    }
   ],
   "source": [
    "honda_civic_mask = mpg_df[\"name\"]==\"honda civic\"\n",
    "honda_civic_data = mpg_df.loc[honda_civic_mask, :]\n",
    "\n",
    "print(f\"There are {len(honda_civic_data)} Honda Civics in the data set.\")\n",
    "\n",
    "mean_honda_civic_weight = honda_civic_data[\"weight\"].mean()\n",
    "print(f\"The mean weight of the Honda Civics is {mean_honda_civic_weight}\")\n",
    "\n",
    "assert(mean_honda_civic_weight == 2083.0)\n",
    "honda_civic_data"
   ]
  },
  {
   "cell_type": "markdown",
   "id": "29e42c34",
   "metadata": {},
   "source": [
    "**Exercise**. Now, we're interested in comparing American vs. European cars. Let's compare the mpg and horsepower for both of the cars in these categories:\n",
    "1. Create two boolean masks to select for American and European cars. This data is stored in the `origin` column as `usa` and `europe`, respectively.\n",
    "2. Create two new dataframes containing ONLY the `mpg` and `horsepower` data for American and European cars, respectively. (Hint: to get more than one column, we can use a list of our column names, e.g. `[name1, name2]`).\n",
    "3. Inspect the dimensions of both dataframes: using the f-string printing formatting, print out this information. The template is provided for you; don't forget to add the f when printing!\n",
    "4. Finally, use the `mean()` function from **pandas** to calculate the means of each column, then print the results (print it directly; it does not have to be formatted). *For functions like these, you will have to call it from the data frame*. For example, to get the median for each column, you would write `df.median()`; to get the max value in each column, you would write `df.max()`.\n",
    "5. What do you notice about American vs. European cars in the data set?"
   ]
  },
  {
   "cell_type": "code",
   "execution_count": 13,
   "id": "9fb7c4e4",
   "metadata": {},
   "outputs": [
    {
     "name": "stdout",
     "output_type": "stream",
     "text": [
      "There are 249 rows and 2 columns in the American Car Data Set.\n",
      "There are 70 rows and 2 columns in the European Car Data Set.\n",
      "mpg            20.083534\n",
      "horsepower    119.048980\n",
      "dtype: float64\n",
      "mpg           27.891429\n",
      "horsepower    80.558824\n",
      "dtype: float64\n"
     ]
    }
   ],
   "source": [
    "# 1.\n",
    "usa_mask = mpg_df[\"origin\"]== \"usa\"\n",
    "eur_mask = mpg_df[\"origin\"]== \"europe\"\n",
    "\n",
    "# 2.\n",
    "columns_of_interest = [\"mpg\", \"horsepower\"]  # fill in here\n",
    "usa_mpg_df = mpg_df.loc[usa_mask, columns_of_interest]\n",
    "eur_mpg_df = mpg_df.loc[eur_mask, columns_of_interest]\n",
    "\n",
    "\n",
    "# 3. \n",
    "print(f\"There are {usa_mpg_df.shape[0]} rows and {usa_mpg_df.shape[1]} columns in the American Car Data Set.\")\n",
    "print(f\"There are {eur_mpg_df.shape[0]} rows and {eur_mpg_df.shape[1]} columns in the European Car Data Set.\") \n",
    "\n",
    "# 4.\n",
    "print(usa_mpg_df.mean())\n",
    "print(eur_mpg_df.mean())\n",
    "\n",
    "# 5. Record your observations:\n",
    "#There are many more American cars in the dataset. \n",
    "#There are 249 rows and 2 columns in the American Car Data Set.\n",
    "#There are 70 rows and 2 columns in the European Car Data Set.\n",
    "#USA\n",
    "#mpg_avg            20.083534\n",
    "#horsepower_avg    119.048980\n",
    "#Europe \n",
    "#mpg_avg          27.891429\n",
    "#horsepower_avg   80.558824"
   ]
  },
  {
   "cell_type": "markdown",
   "id": "77bd776f",
   "metadata": {},
   "source": [
    "### Assigning Categories\n",
    "In R, we used the `ifelse()` function very heavily to assign categories, such as classifying patients as \"old\" or \"young\". In Python, we have the `where(COND, TRUE_VAL, FALSE_VAL)` function from numpy, which works extremely similarly to `ifelse()`. That is:\n",
    "\n",
    "1. The first parameter is the condition (a boolean vector; that is, `True` and `Falses`).\n",
    "2. The second parameter is the value to fill the `True` values.\n",
    "3. The third parameter is the value to fil lthe `False` values.\n",
    "\n",
    "The following example shows how to apply the `where()` function, in the context of telling if a number is odd or even."
   ]
  },
  {
   "cell_type": "code",
   "execution_count": 14,
   "id": "4a415b5f",
   "metadata": {
    "scrolled": true
   },
   "outputs": [
    {
     "data": {
      "text/html": [
       "<div>\n",
       "<style scoped>\n",
       "    .dataframe tbody tr th:only-of-type {\n",
       "        vertical-align: middle;\n",
       "    }\n",
       "\n",
       "    .dataframe tbody tr th {\n",
       "        vertical-align: top;\n",
       "    }\n",
       "\n",
       "    .dataframe thead th {\n",
       "        text-align: right;\n",
       "    }\n",
       "</style>\n",
       "<table border=\"1\" class=\"dataframe\">\n",
       "  <thead>\n",
       "    <tr style=\"text-align: right;\">\n",
       "      <th></th>\n",
       "      <th>nums</th>\n",
       "      <th>boolean_vector</th>\n",
       "      <th>parity</th>\n",
       "    </tr>\n",
       "  </thead>\n",
       "  <tbody>\n",
       "    <tr>\n",
       "      <th>0</th>\n",
       "      <td>0</td>\n",
       "      <td>False</td>\n",
       "      <td>Even</td>\n",
       "    </tr>\n",
       "    <tr>\n",
       "      <th>1</th>\n",
       "      <td>1</td>\n",
       "      <td>True</td>\n",
       "      <td>Odd</td>\n",
       "    </tr>\n",
       "    <tr>\n",
       "      <th>2</th>\n",
       "      <td>2</td>\n",
       "      <td>False</td>\n",
       "      <td>Even</td>\n",
       "    </tr>\n",
       "    <tr>\n",
       "      <th>3</th>\n",
       "      <td>3</td>\n",
       "      <td>True</td>\n",
       "      <td>Odd</td>\n",
       "    </tr>\n",
       "    <tr>\n",
       "      <th>4</th>\n",
       "      <td>4</td>\n",
       "      <td>False</td>\n",
       "      <td>Even</td>\n",
       "    </tr>\n",
       "    <tr>\n",
       "      <th>5</th>\n",
       "      <td>5</td>\n",
       "      <td>True</td>\n",
       "      <td>Odd</td>\n",
       "    </tr>\n",
       "  </tbody>\n",
       "</table>\n",
       "</div>"
      ],
      "text/plain": [
       "   nums  boolean_vector parity\n",
       "0     0           False   Even\n",
       "1     1            True    Odd\n",
       "2     2           False   Even\n",
       "3     3            True    Odd\n",
       "4     4           False   Even\n",
       "5     5            True    Odd"
      ]
     },
     "execution_count": 14,
     "metadata": {},
     "output_type": "execute_result"
    }
   ],
   "source": [
    "# remember that to use our vectorized operations, we need to make sure our data is in an array\n",
    "# pandas luckily does this for us\n",
    "# we'll be adding to this data frame for instructive purporses\n",
    "\n",
    "number_example_array = pd.DataFrame({\"nums\": [0, 1, 2, 3, 4, 5]})\n",
    "# odds will be True, evens will be False\n",
    "# we add this information as a new column\n",
    "boolean_vector = (number_example_array % 2 == 1)\n",
    "number_example_array[\"boolean_vector\"] = boolean_vector # we could do this in one step\n",
    "\n",
    "# we add a third column saying if our value is odd or even\n",
    "number_example_array[\"parity\"] = np.where(boolean_vector, \"Odd\", \"Even\")\n",
    "\n",
    "number_example_array"
   ]
  },
  {
   "cell_type": "markdown",
   "id": "03c74f30",
   "metadata": {},
   "source": [
    "**Exercise**. Let's say we're interested in categorizing each car as \"efficient\" or \"inefficient\":\n",
    "1. Let's say cars with a `mpg` greater than 30 is efficient. Create a new column, called `efficiency_status`, where efficient cars are called `\"efficient\"`, and inefficient cars are `\"inefficient\"`, using the `np.where()` function.\n",
    "2. Separate the cars out by their efficiency status in a similar way as the previous exercise. This time, keep all the columns in the data frame. (You may want to make a boolean mask first).\n",
    "3. Finally, find the median `mpg` for each data frame:\n",
    "    1. Access the mpg column.\n",
    "    2. Call `np.median()` on the mpg column, and store it in a variable. Repeat for the other data frame.\n",
    "    3. Print them out using the print template below.\n",
    "    \n",
    "Do these median values make sense? Why or why not?"
   ]
  },
  {
   "cell_type": "code",
   "execution_count": 30,
   "id": "f30fdf75",
   "metadata": {},
   "outputs": [
    {
     "name": "stdout",
     "output_type": "stream",
     "text": [
      "The median mpg for efficient cars is 34.1\n",
      "The median mpg for inefficient cars is 20.0\n"
     ]
    }
   ],
   "source": [
    "# 1. Create the efficiency_status column in mpg_df\n",
    "mpg_df[\"efficiency_status\"] = np.where(mpg_df[\"mpg\"] > 30, \"efficient\", \"inefficient\")\n",
    "\n",
    "# 2. Create the two data frames with efficient vs. inefficient cars\n",
    "efficiency_mask = mpg_df[\"efficiency_status\"] == \"efficient\"\n",
    "efficient_mpg_df = mpg_df.loc[efficiency_mask, :]\n",
    "inefficient_mpg_df = mpg_df.loc[~efficiency_mask, :]\n",
    "\n",
    "# 3. find the median mpg and print it\n",
    "efficient_mpg_median = efficient_mpg_df['mpg'].median()\n",
    "inefficient_mpg_median = inefficient_mpg_df['mpg'].median()\n",
    "\n",
    "print(\"The median mpg for efficient cars is\", efficient_mpg_median)\n",
    "print(\"The median mpg for inefficient cars is\", inefficient_mpg_median)\n",
    "\n",
    "#Median values do make sense, they are the middle of the data. \n",
    "\n",
    "#  For this to print properly, you may need to use single quotes to access the 'mpg' column:\n",
    "#  e.g efficient_mpg_df['mpg'] rather than efficient_mpg_df[\"mpg\"]\n",
    "#  (This is because our main quote has double quotes)\n",
    "\n"
   ]
  },
  {
   "cell_type": "markdown",
   "id": "0523f926",
   "metadata": {},
   "source": [
    "# Matplotlib\n",
    "`matplotlib` is the main plotting package in Python. Specifically, we will be using the `pyplot` module from `matplotlib` (the package is massive, so it's preferable to just get the specific module you need). Here's how you typically would import a specific module from a package:"
   ]
  },
  {
   "cell_type": "code",
   "execution_count": 16,
   "id": "192d8ade",
   "metadata": {},
   "outputs": [],
   "source": [
    "import matplotlib.pyplot as plt"
   ]
  },
  {
   "cell_type": "markdown",
   "id": "a4c951e0",
   "metadata": {},
   "source": [
    "The workflow behind `pyplot` is as follows:\n",
    "1. Set up the environment to make the plot.\n",
    "2. Create the plot.\n",
    "3. Show the plot and/or save it to a fil). \n",
    "\n",
    "For example, let's plot a simple parabola:"
   ]
  },
  {
   "cell_type": "code",
   "execution_count": 17,
   "id": "fdb0dae0",
   "metadata": {
    "scrolled": true
   },
   "outputs": [
    {
     "data": {
      "image/png": "[encoded data removed]",
      "text/plain": [
       "<Figure size 432x288 with 1 Axes>"
      ]
     },
     "metadata": {
      "needs_background": "light"
     },
     "output_type": "display_data"
    }
   ],
   "source": [
    "# 0. Getting our data to plot\n",
    "x_vals = np.array([-5, -4, -3, -2, -1, 0, 1, 2, 3, 4, 5])\n",
    "y_vals = x_vals ** 2  # this is the Python syntax to raise a number to a power\n",
    "# e.g. you can write x_vals ** 3 to cube a number, x_vals **  to take the square root, etc.\n",
    "\n",
    "# 1. Set up the plot environment\n",
    "\n",
    "# Note that one function can have 2+ return values in Python\n",
    "# plt.subplots controls the number of subplots and how they're placed\n",
    "# In this case, we just want one plot (one row, one column)\n",
    "fig, ax = plt.subplots(1, 1)  \n",
    "\n",
    "\n",
    "# 2. Use the ax variable to plot the data\n",
    "#    fig doesn't really ever get used in my experience\n",
    "ax.plot(x_vals, y_vals)\n",
    "\n",
    "# 3. Show the plot\n",
    "plt.show()"
   ]
  },
  {
   "cell_type": "markdown",
   "id": "5c240880",
   "metadata": {},
   "source": [
    "Let's break down all the objects we made:\n",
    "* `fig` doesn't really ever get used.\n",
    "* `ax` controls the axes -- in short, it controls the variables you plot, the plot labels, etc.\n",
    "* `plt` is the plot module you imported, which you can think of as a \"plot window.\" Basically, the plots you made get saved to `plt`, and from there you can see the plots you made.\n",
    "\n",
    "\n",
    "You can look into the `matplotlib.figure` module on your own time to see all the options. However, the following code is a good starting point for creating plots side-by-side, using subplots and labeling the axes (using the `set` function):"
   ]
  },
  {
   "cell_type": "code",
   "execution_count": 158,
   "id": "bb69eb75",
   "metadata": {},
   "outputs": [
    {
     "data": {
      "image/png": "[encoded data removed]",
      "text/plain": [
       "<Figure size 432x288 with 4 Axes>"
      ]
     },
     "metadata": {
      "needs_background": "light"
     },
     "output_type": "display_data"
    }
   ],
   "source": [
    "# good to know: constrained_layout spaces the plots out so plot titles don't overlap\n",
    "fig, ax = plt.subplots(2, 2, constrained_layout=True)\n",
    "\n",
    "# ax is an list of lists (2D list) -- you need two brackets to access the data\n",
    "# think of it as a grid:\n",
    "\n",
    "# [0][0]  [0][1]\n",
    "# [1][0]  [1][1]\n",
    "\n",
    "ax[0][0].plot(x_vals, y_vals) \n",
    "ax[0][0].set(title = \"y=x^2\", xlabel='x', ylabel='y')\n",
    "\n",
    "ax[0][1].scatter(x_vals, y_vals) # makes a scatter plot\n",
    "ax[0][1].set(title = \"y=x^2\", xlabel='x', ylabel='y')\n",
    "\n",
    "ax[1][0].plot(y_vals, x_vals)\n",
    "ax[1][0].set(title = \"x = y^2\", xlabel='x', ylabel='y')\n",
    "\n",
    "ax[1][1].scatter(y_vals, x_vals)\n",
    "ax[1][1].set(title = \"x = y^2\", xlabel='x', ylabel='y')\n",
    "\n",
    "plt.show()"
   ]
  },
  {
   "cell_type": "markdown",
   "id": "90cbabfa",
   "metadata": {},
   "source": [
    "The most common plots you'll make are likely the following:\n",
    "\n",
    "1. A scatter plot: use `scatter(x, y)`.\n",
    "2. A connected line: use `plot(x, y)`. (The values must be sorted for this function to work).\n",
    "3. A histogram: use `hist(x)`."
   ]
  },
  {
   "cell_type": "markdown",
   "id": "abe55fd0",
   "metadata": {},
   "source": [
    "Let's do similar analysis as we did with the `mtcars` dataset. "
   ]
  },
  {
   "cell_type": "markdown",
   "id": "2542bc59",
   "metadata": {},
   "source": [
    "**Exercise**. (Scatter plots). First, let's look at how mpg (on the y-axis) is affected by the horsepower (on the x-axis) by plotting a *scatter* plot. The `c` parameter colors the points; in this case, color by the number of cylinders. Be sure to label your axes!\n",
    "\n",
    "Note: the `alpha` parameter controls the parameters. Also, feel free to refer to the [scatter](https://matplotlib.org/stable/api/_as_gen/matplotlib.pyplot.scatter.html) documentation for more options!"
   ]
  },
  {
   "cell_type": "code",
   "execution_count": 27,
   "id": "bcce67d5",
   "metadata": {
    "scrolled": false
   },
   "outputs": [
    {
     "data": {
      "image/png": "[encoded data removed]",
      "text/plain": [
       "<Figure size 432x288 with 1 Axes>"
      ]
     },
     "metadata": {
      "needs_background": "light"
     },
     "output_type": "display_data"
    }
   ],
   "source": [
    "# Create your plot here: you may want to refer to the previous examples\n",
    "fig, ax = plt.subplots(1,1)\n",
    "\n",
    "ax.scatter(x = mpg_df[\"horsepower\"],  # get the horsepower column from mpg_df\n",
    "           y = mpg_df[\"mpg\"],  # get the mpg column from mpg_df\n",
    "           c = mpg_df[\"cylinders\"],  # get the cylinders column from mpg_df\n",
    "           alpha = 0.4)\n",
    "\n",
    "ax.set(xlabel = \"Horsepower\", ylabel = \"MPG\")\n",
    "fig.suptitle(\"Horsepower vs MPG\")\n",
    "\n",
    "plt.show()"
   ]
  },
  {
   "cell_type": "markdown",
   "id": "9f23c0bc",
   "metadata": {},
   "source": [
    "**Exercise**. (Boxplots) Make a boxplot of weight using the `boxplot()` function. Unfortunately, it's quite difficult to \"split\" the boxplot by categories (e.g. origin) using matplotlib. If you're curious, some ways to do so are presented [here](https://stackoverflow.com/questions/16592222/matplotlib-group-boxplots)."
   ]
  },
  {
   "cell_type": "code",
   "execution_count": 20,
   "id": "c08713ad",
   "metadata": {},
   "outputs": [
    {
     "data": {
      "image/png": "[encoded data removed]",
      "text/plain": [
       "<Figure size 432x288 with 1 Axes>"
      ]
     },
     "metadata": {
      "needs_background": "light"
     },
     "output_type": "display_data"
    }
   ],
   "source": [
    "# Create your boxplot here!\n",
    "\n",
    "fig, ax = plt.subplots(1,1, constrained_layout=True)\n",
    "\n",
    "ax.boxplot(mpg_df[\"weight\"])\n",
    "ax.set(xlabel = \"horsepower\")\n",
    "ax.set(ylabel = \"mpg\")\n",
    "fig.suptitle(\"weight\")\n",
    "\n",
    "plt.show()\n"
   ]
  },
  {
   "cell_type": "markdown",
   "id": "5c909ade",
   "metadata": {},
   "source": [
    "**Exercise**. Let's visualize mpg and horsepower using our `usa_mpg_df` and `eur_mpg_df` data frames. Create a 2 row by 2 column comparison, where the first column is American cars, and the second is European cars:\n",
    "\n",
    "1. Plot a histogram of the mpg as the first row.\n",
    "2. Plot a scatter plot of mpg (y-axis) vs. horsepower (x-axis) as the third row.\n",
    "\n",
    "As always, give informative labels to the plots! You will probably want to copy and paste the example code for the 2 x 2 plots and modify it for your needs."
   ]
  },
  {
   "cell_type": "code",
   "execution_count": 19,
   "id": "9ff4881e",
   "metadata": {
    "scrolled": false
   },
   "outputs": [
    {
     "data": {
      "image/png": "[encoded data removed]",
      "text/plain": [
       "<Figure size 432x288 with 4 Axes>"
      ]
     },
     "metadata": {
      "needs_background": "light"
     },
     "output_type": "display_data"
    }
   ],
   "source": [
    "# Create the 2x2 plot here\n",
    "\n",
    "fig, ax = plt.subplots(2, 2, constrained_layout=True)\n",
    "\n",
    "# ax is an list of lists (2D list) -- you need two brackets to access the data\n",
    "# think of it as a grid:\n",
    "\n",
    "# [0][0]  [0][1]\n",
    "# [1][0]  [1][1]\n",
    "\n",
    "ax[0][0].hist(usa_mpg_df[\"mpg\"]) \n",
    "ax[0][0].set(title = \"usa\", xlabel='mpg', ylabel='counts')\n",
    "\n",
    "ax[0][1].hist(eur_mpg_df[\"mpg\"])\n",
    "ax[0][1].set(title = \"eur\", xlabel='mpg', ylabel='counts')\n",
    "\n",
    "ax[1][0].scatter(usa_mpg_df[\"horsepower\"], usa_mpg_df[\"mpg\"])\n",
    "ax[1][0].set(title = \"usa\", xlabel='horsepower', ylabel='mpg')\n",
    "\n",
    "ax[1][1].scatter(eur_mpg_df[\"horsepower\"], eur_mpg_df[\"mpg\"])\n",
    "ax[1][1].set(title = \"eur\", xlabel='horsepower', ylabel='mpg')\n",
    "\n",
    "plt.show()"
   ]
  },
  {
   "cell_type": "markdown",
   "id": "c21a1589",
   "metadata": {},
   "source": [
    "A note on the previous exercise: matplotlib will actually assign colors for you if you plot to the same plot. So we can run the following code to remove the second column. However, visually , it doesn't look super great."
   ]
  },
  {
   "cell_type": "code",
   "execution_count": 304,
   "id": "cd0b6f52",
   "metadata": {},
   "outputs": [
    {
     "data": {
      "image/png": "[encoded data removed]",
      "text/plain": [
       "<Figure size 432x288 with 3 Axes>"
      ]
     },
     "metadata": {
      "needs_background": "light"
     },
     "output_type": "display_data"
    }
   ],
   "source": [
    "fig, ax = plt.subplots(3, 1, constrained_layout=True)\n",
    "\n",
    "# here, since we just have 1 column, we do not need two brackets\n",
    "ax[0].hist(usa_mpg_df[\"mpg\"]) \n",
    "ax[0].hist(eur_mpg_df[\"mpg\"]) \n",
    "ax[0].set(ylabel='counts', xlabel='mpg')\n",
    "\n",
    "\n",
    "ax[1].hist(usa_mpg_df[\"horsepower\"]) \n",
    "ax[1].hist(eur_mpg_df[\"horsepower\"]) \n",
    "ax[1].set(ylabel='counts', xlabel='horsepower')\n",
    "\n",
    "ax[2].scatter(usa_mpg_df[\"horsepower\"], usa_mpg_df[\"mpg\"])\n",
    "ax[2].scatter(eur_mpg_df[\"horsepower\"], eur_mpg_df[\"mpg\"])\n",
    "ax[2].set(ylabel=\"mpg\", xlabel=\"horsepower\")\n",
    "\n",
    "\n",
    "plt.show()"
   ]
  },
  {
   "cell_type": "markdown",
   "id": "f41697ec",
   "metadata": {},
   "source": [
    "## Plotting with seaborn\n",
    "\n",
    "From the previous examples, you might notice that our plots lack figures, and from the boxplot example, it can require a lot of work to wrangle the data to make it plot nicely. `seaborn` is a nice package that makes prettier plots with more control over the figure. As always, install the package and load it as usual."
   ]
  },
  {
   "cell_type": "code",
   "execution_count": 47,
   "id": "05c7d21a",
   "metadata": {},
   "outputs": [],
   "source": [
    "import seaborn as sns  # sns is standard"
   ]
  },
  {
   "cell_type": "markdown",
   "id": "df5a03fd",
   "metadata": {},
   "source": [
    "Here's how you make a scatter plot with seaborn, for example:"
   ]
  },
  {
   "cell_type": "code",
   "execution_count": 284,
   "id": "b8f9664c",
   "metadata": {
    "scrolled": true
   },
   "outputs": [
    {
     "data": {
      "image/png": "[encoded data removed]",
      "text/plain": [
       "<Figure size 432x288 with 1 Axes>"
      ]
     },
     "metadata": {
      "needs_background": "light"
     },
     "output_type": "display_data"
    }
   ],
   "source": [
    "fig, ax = plt.subplots(1, 1)\n",
    "\n",
    "sns.scatterplot(\n",
    "    x = mpg_df[\"horsepower\"],  # x-axis\n",
    "    y = mpg_df[\"mpg\"], # y-axis\n",
    "    hue = mpg_df[\"cylinders\"], # color/fill\n",
    "    legend = \"full\",  # show the legend\n",
    "    palette = \"deep\",  # OPTINAL: color palette\n",
    "    alpha = 0.6,  # OPTINAL: transparency\n",
    "    ax = ax  # necessary for when plotting more than 1 subplot\n",
    ")\n",
    "\n",
    "fig.suptitle('mpg vs. horsepower')  # set title\n",
    "\n",
    "\n",
    "plt.show()"
   ]
  },
  {
   "cell_type": "markdown",
   "id": "bb0d008d",
   "metadata": {},
   "source": [
    "Notice a few differences:\n",
    "1. The axes are automatically labelled based on the name of the columns. (You can still use `ax.set()` to change the labels).\n",
    "2. Adding the legend can be done by specifying one argument in the function.\n",
    "3. You can specify the color palette easily.\n",
    "4. The syntax is more intuitive and user-friendly (in my opinion)."
   ]
  },
  {
   "cell_type": "markdown",
   "id": "44a2c2eb",
   "metadata": {},
   "source": [
    "To create plots side by side, we can use the ax argument in the same way as with matplotlib. Here's a demo, containing a line plot and a histogram:"
   ]
  },
  {
   "cell_type": "code",
   "execution_count": 11,
   "id": "c5f0bc5b",
   "metadata": {},
   "outputs": [
    {
     "data": {
      "image/png": "[encoded data removed]",
      "text/plain": [
       "<Figure size 432x288 with 2 Axes>"
      ]
     },
     "metadata": {
      "needs_background": "light"
     },
     "output_type": "display_data"
    }
   ],
   "source": [
    "fig, ax = plt.subplots(1, 2)\n",
    "\n",
    "\n",
    "sns.lineplot(\n",
    "    x = mpg_df[\"model_year\"],  # x-axis\n",
    "    y = mpg_df[\"mpg\"], # y-axis\n",
    "    hue = mpg_df[\"origin\"], # color\n",
    "    legend = \"full\",  # show the legend\n",
    "    palette = \"deep\",  # OPTINAL: color palette\n",
    "    alpha = 0.6,  # OPTINAL: transparency\n",
    "    ax = ax[0]  # necessary for when plotting more than 1 subplot\n",
    ")\n",
    "\n",
    "sns.histplot(\n",
    "    x = mpg_df[\"mpg\"],  # x-axis\n",
    "    hue = mpg_df[\"origin\"],\n",
    "    legend = \"full\",  # show the legend\n",
    "    palette = \"deep\",  # OPTINAL: color palette\n",
    "    alpha = 0.6,  # OPTINAL: transparency\n",
    "    ax = ax[1]  # necessary for when plotting more than 1 subplot\n",
    ")\n",
    "\n",
    "fig.suptitle('mpg in nations')  # set title\n",
    "\n",
    "\n",
    "plt.show()"
   ]
  },
  {
   "cell_type": "markdown",
   "id": "b37eec72",
   "metadata": {},
   "source": [
    "**Exercise**. Do the following:\n",
    "1. Set up a 1 x 2 plot window (i.e. 2 plots side by side).\n",
    "2. In the first plot window, use `seaborn` to make a histogram of `horsepower` using the `histplot()` function.\n",
    "3. In the second plot window, use `seaborn` to make boxplots of `horsepower` by `origin` using the `boxplot()` function.\n",
    "4. What can you conclude about car manufacturers? Are there other factors other than origin that could contribute to acceleration distributions that we see?"
   ]
  },
  {
   "cell_type": "code",
   "execution_count": 56,
   "id": "c75dbc54",
   "metadata": {
    "scrolled": false
   },
   "outputs": [
    {
     "data": {
      "image/png": "[encoded data removed]",
      "text/plain": [
       "<Figure size 432x288 with 2 Axes>"
      ]
     },
     "metadata": {
      "needs_background": "light"
     },
     "output_type": "display_data"
    },
    {
     "data": {
      "text/plain": [
       "<Figure size 432x288 with 0 Axes>"
      ]
     },
     "metadata": {},
     "output_type": "display_data"
    }
   ],
   "source": [
    "# Create your plots here\n",
    "fig, ax = plt.subplots(1,2)\n",
    "\n",
    "sns.histplot(\n",
    "    x = mpg_df[\"horsepower\"],\n",
    "    ax = ax[0]\n",
    ")\n",
    "\n",
    "sns.boxplot(\n",
    "    x = mpg_df[\"origin\"],\n",
    "    y = mpg_df[\"horsepower\"],\n",
    "    ax = ax[1]\n",
    ")\n",
    "\n",
    "plt.show()\n",
    "\n",
    "plt.savefig('horspower.png', bbox_inches='tight')\n",
    "\n",
    "#The USA makes more powerful cars. Other factors can include differences in driving patterns in those areas, thus resulting in increased need for power. "
   ]
  },
  {
   "cell_type": "markdown",
   "id": "3aa1c685",
   "metadata": {},
   "source": [
    "### Saving Plots\n",
    "Finally, to save a plot, we can call `plot.savefig()` INSTEAD of the plot. For example, to save the `mpg` figure I previously made, we can do the following:"
   ]
  },
  {
   "cell_type": "code",
   "execution_count": 12,
   "id": "f619f2d6",
   "metadata": {
    "scrolled": false
   },
   "outputs": [
    {
     "data": {
      "image/png": "[encoded data removed]",
      "text/plain": [
       "<Figure size 432x288 with 2 Axes>"
      ]
     },
     "metadata": {
      "needs_background": "light"
     },
     "output_type": "display_data"
    }
   ],
   "source": [
    "fig, ax = plt.subplots(1, 2)\n",
    "\n",
    "\n",
    "sns.lineplot(\n",
    "    x = mpg_df[\"model_year\"],  # x-axis\n",
    "    y = mpg_df[\"mpg\"], # y-axis\n",
    "    hue = mpg_df[\"origin\"], # color\n",
    "    legend = \"full\",  # show the legend\n",
    "    palette = \"deep\",  # OPTINAL: color palette\n",
    "    alpha = 0.6,  # OPTINAL: transparency\n",
    "    ax = ax[0]  # necessary for when plotting more than 1 subplot\n",
    ")\n",
    "\n",
    "sns.histplot(\n",
    "    x = mpg_df[\"mpg\"],  # x-axis\n",
    "    hue = mpg_df[\"origin\"],\n",
    "    legend = \"full\",  # show the legend\n",
    "    palette = \"deep\",  # OPTINAL: color palette\n",
    "    alpha = 0.6,  # OPTINAL: transparency\n",
    "    ax = ax[1]  # necessary for when plotting more than 1 subplot\n",
    ")\n",
    "\n",
    "fig.suptitle('mpg vs. horsepower')  # set title\n",
    "\n",
    "# REPLACE plt.show(), otherwise it doesn't work\n",
    "# the second argument gets rid of white space around the figure, which you would have to crop out on your own later\n",
    "plt.savefig('mpg.png', bbox_inches='tight')"
   ]
  },
  {
   "cell_type": "markdown",
   "id": "04bf7c0b",
   "metadata": {},
   "source": [
    "**Exercise**. Create your horsepower plots again, and save it as `\"horsepower.png\"`."
   ]
  },
  {
   "cell_type": "code",
   "execution_count": null,
   "id": "3fd137b7",
   "metadata": {},
   "outputs": [],
   "source": [
    "# Save your horsepower plot here (from the previous exercise)\n",
    "# Done Above"
   ]
  }
 ],
 "metadata": {
  "kernelspec": {
   "display_name": "Python 3",
   "language": "python",
   "name": "python3"
  },
  "language_info": {
   "codemirror_mode": {
    "name": "ipython",
    "version": 3
   },
   "file_extension": ".py",
   "mimetype": "text/x-python",
   "name": "python",
   "nbconvert_exporter": "python",
   "pygments_lexer": "ipython3",
   "version": "3.8.8"
  },
  "latex_envs": {
   "LaTeX_envs_menu_present": true,
   "autoclose": false,
   "autocomplete": true,
   "bibliofile": "biblio.bib",
   "cite_by": "apalike",
   "current_citInitial": 1,
   "eqLabelWithNumbers": true,
   "eqNumInitial": 1,
   "hotkeys": {
    "equation": "Ctrl-E",
    "itemize": "Ctrl-I"
   },
   "labels_anchors": false,
   "latex_user_defs": false,
   "report_style_numbering": false,
   "user_envs_cfg": false
  }
 },
 "nbformat": 4,
 "nbformat_minor": 5
}
